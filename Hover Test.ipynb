{
 "cells": [
  {
   "cell_type": "code",
   "execution_count": 1,
   "metadata": {
    "collapsed": true
   },
   "outputs": [],
   "source": [
    "import krpc\n",
    "import math\n",
    "from time import sleep\n",
    "import PID\n",
    "from threading import Thread"
   ]
  },
  {
   "cell_type": "code",
   "execution_count": 2,
   "metadata": {
    "collapsed": true
   },
   "outputs": [],
   "source": [
    "conn = krpc.connect()"
   ]
  },
  {
   "cell_type": "code",
   "execution_count": 3,
   "metadata": {
    "collapsed": true
   },
   "outputs": [],
   "source": [
    "#### Static Variable Definitions\n",
    "\n",
    "vessel = conn.space_center.active_vessel\n",
    "kerbin = conn.space_center.bodies['Kerbin']\n",
    "\n",
    "# Reference frame relative to vessel, with z oriented towards center of kerbin\n",
    "cframe = conn.space_center.ReferenceFrame.create_hybrid(kerbin.reference_frame,vessel.surface_reference_frame)\n",
    "\n",
    "# Kerbin Gravitational Parameter\n",
    "# Requires connection\n",
    "GM = kerbin.gravitational_parameter #3.5316000e12"
   ]
  },
  {
   "cell_type": "code",
   "execution_count": 4,
   "metadata": {
    "collapsed": true
   },
   "outputs": [],
   "source": [
    "# Returns acceleration due to gravity\n",
    "# Requires connection\n",
    "def agrav(dist):\n",
    "    return GM / (dist ** 2)"
   ]
  },
  {
   "cell_type": "code",
   "execution_count": 5,
   "metadata": {
    "collapsed": true
   },
   "outputs": [],
   "source": [
    "def VSpeedPID(thrust):\n",
    "\n",
    "    p = PID.PID()\n",
    "    p.setPoint(TargetVerticalSpeed)\n",
    "    \n",
    "    while TerminateVSpeedPID == False:\n",
    "        if p.set_point != TargetVerticalSpeed:\n",
    "            p.setPoint(TargetVerticalSpeed)\n",
    "        error = p.update(vessel.flight(cframe).vertical_speed)\n",
    "        #print error\n",
    "        thrust += (error * vessel.mass) / vessel.max_thrust\n",
    "        vessel.control.throttle = thrust\n",
    "        #print thrust\n",
    "        if vessel.situation == prelaunch:\n",
    "            break\n",
    "        sleep(.25)"
   ]
  },
  {
   "cell_type": "code",
   "execution_count": 76,
   "metadata": {
    "collapsed": true
   },
   "outputs": [],
   "source": [
    "def HSpeedPID():\n",
    "    p = PID.PID()\n",
    "    p.setPoint(TargetHorizontalSpeed)\n",
    "    \n",
    "    while TerminateHSpeedPID == False:\n",
    "        if p.set_point != TargetHorizontalSpeed:\n",
    "            p.setPoint(TargetHorizontalSpeed)\n",
    "        # Should probably be distance over speed... \n",
    "        # Or maybe a second PID using this one to control distance?\n",
    "        error = p.update(vessel.flight(cframe).horizontal_speed)\n",
    "        # Pitch = ArcTan( Vertical Speed / Horizonal Speed )\n",
    "        vessel.auto_pilot.target_pitch = math.degrees(math.atan(TargetVerticalSpeed/TargetHorizontalSpeed))\n",
    "        if vessel.situation == prelaunch:\n",
    "            break\n",
    "        sleep(.25)\n",
    "        "
   ]
  },
  {
   "cell_type": "code",
   "execution_count": 99,
   "metadata": {},
   "outputs": [],
   "source": [
    "def HDirPID():\n",
    "    p = PID.PID()\n",
    "    p.setPoint(TargetHeading)\n",
    "    heading = TargetHeading\n",
    "    \n",
    "    while TerminateHDirPID == False:\n",
    "        if p.set_point != TargetHeading:\n",
    "            p.setPoint(TargetHeading)\n",
    "            heading = TargetHeading\n",
    "        error = p.update(CalcHeading(vessel.flight(cframe).velocity))\n",
    "        heading -= error\n",
    "        vessel.auto_pilot.target_heading = heading\n",
    "        if vessel.situation == prelaunch:\n",
    "            break\n",
    "        sleep(3)"
   ]
  },
  {
   "cell_type": "code",
   "execution_count": 48,
   "metadata": {
    "collapsed": true
   },
   "outputs": [],
   "source": [
    "# Takes a velocity vector in cframe\n",
    "# Returns compass heading of horizontal component of vessel velocity\n",
    "def CalcHeading(VelocityVector):\n",
    "    Z,Y,X = VelocityVector \n",
    "    \n",
    "    # SW Quadrant\n",
    "    if X < 0 and Y < 0:\n",
    "        return 180 + math.degrees(math.atan(abs(X)/abs(Y)))\n",
    "    # NW Quadrant\n",
    "    if X < 0 and Y > 0:\n",
    "        return 360 - math.degrees(math.atan(abs(X)/abs(Y)))\n",
    "    # NE Quarant\n",
    "    if X > 0 and Y > 0:\n",
    "        return math.degrees(math.atan(abs(X)/abs(Y)))\n",
    "    # SE Quadrant\n",
    "    if X > 0 and Y < 0:\n",
    "        return 180 - math.degrees(math.atan(abs(X)/abs(Y)))\n",
    "    # Corner Cases (to avoid zero division error)\n",
    "    if X == 0 and Y > 0:\n",
    "        return 0\n",
    "    if X == 0 and Y < 0:\n",
    "        return 180\n",
    "    if X > 0 and Y == 0:\n",
    "        return 90\n",
    "    if X < 0 and Y == 0:\n",
    "        return 270"
   ]
  },
  {
   "cell_type": "markdown",
   "metadata": {},
   "source": [
    "### Execution"
   ]
  },
  {
   "cell_type": "code",
   "execution_count": 100,
   "metadata": {},
   "outputs": [],
   "source": [
    "prelaunch = vessel.situation\n",
    "\n",
    "vessel.control.sas = False\n",
    "vessel.control.rcs = False\n",
    "vessel.auto_pilot.engage()\n",
    "vessel.auto_pilot.target_pitch_and_heading(90, 90)\n",
    "vessel.auto_pilot.target_roll = 0\n",
    "\n",
    "vessel.control.throttle = 1.0\n",
    "vessel.control.activate_next_stage()\n",
    "sleep(1)\n",
    "vessel.control.throttle = 0.0\n",
    "\n",
    "# Engine off until near 0 vertical velocity\n",
    "while True:\n",
    "    if vessel.flight(cframe).vertical_speed < .001:\n",
    "        break\n",
    "\n",
    "thrust = ((agrav(vessel.position(cframe)[0]) * vessel.mass) / vessel.max_thrust)\n",
    "vessel.control.throttle = thrust"
   ]
  },
  {
   "cell_type": "code",
   "execution_count": 101,
   "metadata": {},
   "outputs": [],
   "source": [
    "TargetVerticalSpeed = 0.0\n",
    "TerminateVSpeedPID = False\n",
    "ThrottleThread = Thread(target = VSpeedPID, args = (thrust,))\n",
    "ThrottleThread.start()\n",
    "\n",
    "\n",
    "TargetHeading = 90\n",
    "TerminateHDirPID = False\n",
    "HeadingThread = Thread(target = HDirPID)\n",
    "HeadingThread.start()\n",
    "\n",
    "\n",
    "#TerminateHSpeedPID = False\n",
    "#vessel.auto_pilot.target_heading = 90"
   ]
  },
  {
   "cell_type": "code",
   "execution_count": 102,
   "metadata": {},
   "outputs": [],
   "source": [
    "vessel.auto_pilot.target_pitch = 8\n",
    "TargetHeading = 270"
   ]
  },
  {
   "cell_type": "code",
   "execution_count": 90,
   "metadata": {},
   "outputs": [
    {
     "data": {
      "text/plain": [
       "12.059847358551824"
      ]
     },
     "execution_count": 90,
     "metadata": {},
     "output_type": "execute_result"
    }
   ],
   "source": [
    "CalcHeading(vessel.flight(cframe).velocity)"
   ]
  },
  {
   "cell_type": "code",
   "execution_count": 70,
   "metadata": {},
   "outputs": [
    {
     "data": {
      "text/plain": [
       "(0.005216584138513147, 2.999907571422095, -5.55066303291548)"
      ]
     },
     "execution_count": 70,
     "metadata": {},
     "output_type": "execute_result"
    }
   ],
   "source": [
    "vessel.flight(cframe).velocity"
   ]
  },
  {
   "cell_type": "code",
   "execution_count": 39,
   "metadata": {},
   "outputs": [],
   "source": [
    "start = vessel.position(kerbin.reference_frame)"
   ]
  },
  {
   "cell_type": "code",
   "execution_count": 87,
   "metadata": {},
   "outputs": [
    {
     "data": {
      "text/plain": [
       "182.45807424740588"
      ]
     },
     "execution_count": 87,
     "metadata": {},
     "output_type": "execute_result"
    }
   ],
   "source": [
    "CalcHeading(conn.space_center.transform_position(start,kerbin.reference_frame, cframe))"
   ]
  },
  {
   "cell_type": "code",
   "execution_count": 75,
   "metadata": {},
   "outputs": [
    {
     "data": {
      "text/plain": [
       "-476.2026672363281"
      ]
     },
     "execution_count": 75,
     "metadata": {},
     "output_type": "execute_result"
    },
    {
     "name": "stderr",
     "output_type": "stream",
     "text": [
      "Exception in thread Thread-19:\n",
      "Traceback (most recent call last):\n",
      "  File \"C:\\Users\\Will\\Anaconda2\\lib\\threading.py\", line 801, in __bootstrap_inner\n",
      "    self.run()\n",
      "  File \"C:\\Users\\Will\\Anaconda2\\lib\\threading.py\", line 754, in run\n",
      "    self.__target(*self.__args, **self.__kwargs)\n",
      "  File \"<ipython-input-5-a8a6b6d89703>\", line 11, in VSpeedPID\n",
      "    thrust += (error * vessel.mass) / vessel.max_thrust\n",
      "ZeroDivisionError: float division by zero\n",
      "\n"
     ]
    }
   ],
   "source": [
    "vessel.auto_pilot.target_heading"
   ]
  },
  {
   "cell_type": "code",
   "execution_count": null,
   "metadata": {
    "collapsed": true
   },
   "outputs": [],
   "source": []
  }
 ],
 "metadata": {
  "kernelspec": {
   "display_name": "Python 2",
   "language": "python",
   "name": "python2"
  },
  "language_info": {
   "codemirror_mode": {
    "name": "ipython",
    "version": 2
   },
   "file_extension": ".py",
   "mimetype": "text/x-python",
   "name": "python",
   "nbconvert_exporter": "python",
   "pygments_lexer": "ipython2",
   "version": "2.7.13"
  }
 },
 "nbformat": 4,
 "nbformat_minor": 2
}
