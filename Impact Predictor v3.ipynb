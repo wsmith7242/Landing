{
 "cells": [
  {
   "cell_type": "code",
   "execution_count": 1,
   "metadata": {
    "collapsed": true
   },
   "outputs": [],
   "source": [
    "import krpc\n",
    "import csv\n",
    "import math\n",
    "import time"
   ]
  },
  {
   "cell_type": "code",
   "execution_count": 2,
   "metadata": {
    "collapsed": true
   },
   "outputs": [],
   "source": [
    "conn = krpc.connect()"
   ]
  },
  {
   "cell_type": "markdown",
   "metadata": {},
   "source": [
    "#### Static Variable Definitions"
   ]
  },
  {
   "cell_type": "code",
   "execution_count": 3,
   "metadata": {
    "collapsed": true
   },
   "outputs": [],
   "source": [
    "vessel = conn.space_center.active_vessel\n",
    "kerbin = conn.space_center.bodies['Kerbin']"
   ]
  },
  {
   "cell_type": "code",
   "execution_count": 4,
   "metadata": {
    "collapsed": true,
    "scrolled": true
   },
   "outputs": [],
   "source": [
    "# Reference frame relative to vessel, with z oriented towards center of kerbin\n",
    "cframe = conn.space_center.ReferenceFrame.create_hybrid(kerbin.reference_frame,vessel.surface_reference_frame)"
   ]
  },
  {
   "cell_type": "code",
   "execution_count": 5,
   "metadata": {
    "collapsed": true
   },
   "outputs": [],
   "source": [
    "# Kerbin Gravitational Parameter\n",
    "# Requires connection\n",
    "GM = kerbin.gravitational_parameter #3.5316000e12"
   ]
  },
  {
   "cell_type": "code",
   "execution_count": 6,
   "metadata": {},
   "outputs": [
    {
     "ename": "ZeroDivisionError",
     "evalue": "float division by zero",
     "output_type": "error",
     "traceback": [
      "\u001b[1;31m---------------------------------------------------------------------------\u001b[0m",
      "\u001b[1;31mZeroDivisionError\u001b[0m                         Traceback (most recent call last)",
      "\u001b[1;32m<ipython-input-6-e7c95888531c>\u001b[0m in \u001b[0;36m<module>\u001b[1;34m()\u001b[0m\n\u001b[0;32m      1\u001b[0m \u001b[1;31m# Fuel flow rate in kilograms per second\u001b[0m\u001b[1;33m\u001b[0m\u001b[1;33m\u001b[0m\u001b[0m\n\u001b[0;32m      2\u001b[0m \u001b[1;31m# Requires connection\u001b[0m\u001b[1;33m\u001b[0m\u001b[1;33m\u001b[0m\u001b[0m\n\u001b[1;32m----> 3\u001b[1;33m \u001b[0mkgps\u001b[0m \u001b[1;33m=\u001b[0m \u001b[1;33m(\u001b[0m\u001b[0mvessel\u001b[0m\u001b[1;33m.\u001b[0m\u001b[0mmax_thrust\u001b[0m \u001b[1;33m)\u001b[0m \u001b[1;33m/\u001b[0m \u001b[1;33m(\u001b[0m\u001b[0mvessel\u001b[0m\u001b[1;33m.\u001b[0m\u001b[0mspecific_impulse\u001b[0m \u001b[1;33m*\u001b[0m \u001b[1;36m9.81\u001b[0m\u001b[1;33m)\u001b[0m\u001b[1;33m\u001b[0m\u001b[0m\n\u001b[0m",
      "\u001b[1;31mZeroDivisionError\u001b[0m: float division by zero"
     ]
    }
   ],
   "source": [
    "# Fuel flow rate in kilograms per second\n",
    "# Requires connection\n",
    "kgps = (vessel.max_thrust ) / (vessel.specific_impulse * 9.807)"
   ]
  },
  {
   "cell_type": "code",
   "execution_count": 8,
   "metadata": {
    "collapsed": true
   },
   "outputs": [],
   "source": [
    "# Test values for starting position and velocity\n",
    "tspos = (604608.6391293579, -1.318767317570746e-11, 1.1641532182693481e-10)\n",
    "tsvel = (179.7520206477589, 6.886157014239632, 76.08919378846531)"
   ]
  },
  {
   "cell_type": "markdown",
   "metadata": {},
   "source": [
    "#### Functions"
   ]
  },
  {
   "cell_type": "code",
   "execution_count": 6,
   "metadata": {
    "collapsed": true
   },
   "outputs": [],
   "source": [
    "# Reads variables from APTD.csv and assigns to lists\n",
    "# APTD.csv must be in current working directory\n",
    "\n",
    "logsheet = open(\"APTD.csv\",'rb')\n",
    "reader = csv.reader(logsheet)\n",
    "variables = []\n",
    "reader.next()\n",
    "for row in reader:\n",
    "    variables.append(row)\n",
    "logsheet.close()\n",
    "\n",
    "variables = [list(x) for x in zip(*variables)]\n",
    "\n",
    "altL   = [float(x) for x in variables[0]]\n",
    "pressL = [float(x) for x in variables[1]]\n",
    "tempL  = [float(x) for x in variables[2]]\n",
    "densL  = [float(x) for x in variables[3]]\n",
    "\n",
    "del variables"
   ]
  },
  {
   "cell_type": "code",
   "execution_count": 7,
   "metadata": {
    "collapsed": true
   },
   "outputs": [],
   "source": [
    "# Takes altitude\n",
    "# Returns static atmospheric pressure at given altitude\n",
    "def altPress(altitude):\n",
    "    i = [abs(altitude-x) for x in altL].index(min([abs(altitude-x) for x in altL]))\n",
    "    return pressL[i]"
   ]
  },
  {
   "cell_type": "code",
   "execution_count": 8,
   "metadata": {
    "collapsed": true
   },
   "outputs": [],
   "source": [
    "# Takes altitude\n",
    "# Returns air density (rho) at given altitude\n",
    "def rho(altitude):\n",
    "    i = [abs(altitude-x) for x in altL].index(min([abs(altitude-x) for x in altL]))\n",
    "    return densL[i]"
   ]
  },
  {
   "cell_type": "code",
   "execution_count": 9,
   "metadata": {
    "collapsed": true
   },
   "outputs": [],
   "source": [
    "## Thrust = Vac Thrust -((Vac Thrust - Sea Level Thrust)*(local press / sea lvl press))\n",
    "\n",
    "# Takes altitude in meters\n",
    "# Optionally takes vacThrust (vessel max thrust in vaccum - retrievable with vesse.max_vacuum_thrust)\n",
    "# Optionally takes tRange (Thrust range as vacThrust - sea level thrust)\n",
    "# Optionally takes and seaPress (Sea Level atmospheric pressure in Pa)\n",
    "# Returns thrust at given altitude (in Newtons I'm assuming)\n",
    "# Requires altPress\n",
    "def Thrust(alt, vacThrust = 215000.0, tRange = 46578.78125, seaPress = 100142.2578125):\n",
    "    return  vacThrust - ( tRange * ( altPress(alt) / seaPress ) )"
   ]
  },
  {
   "cell_type": "code",
   "execution_count": 10,
   "metadata": {
    "collapsed": true
   },
   "outputs": [],
   "source": [
    "# Reverse Thrust Vector\n",
    "# Takes a velocity vector, altitude, and vessel mass \n",
    "# Returns thrust acceleration as a vector in the opposite direction\n",
    "def RTV(vvec, alt, mass):\n",
    "    def axis(x):\n",
    "        return ( Thrust(alt) * (vvec[x]/sum(vvec)) ) / mass\n",
    "    return (-axis(0), -axis(1), -axis(2) )"
   ]
  },
  {
   "cell_type": "code",
   "execution_count": null,
   "metadata": {
    "collapsed": true
   },
   "outputs": [],
   "source": []
  },
  {
   "cell_type": "code",
   "execution_count": 11,
   "metadata": {
    "collapsed": true
   },
   "outputs": [],
   "source": [
    "# Returns acceleration due to gravity\n",
    "# Requires connection\n",
    "def agrav(dist):\n",
    "\treturn GM / (dist ** 2)"
   ]
  },
  {
   "cell_type": "code",
   "execution_count": 12,
   "metadata": {
    "collapsed": true
   },
   "outputs": [],
   "source": [
    "# Takes altitude and velocity\n",
    "# Optionally takes CdA and mass\n",
    "# Returns acceleration due to drag\n",
    "# Requires rho()\n",
    "def adrag(alt, vel, mass = 5241.39, CdA = 1.3):\n",
    "\treturn (rho(alt) * vel**2 * .5 * CdA) / mass"
   ]
  },
  {
   "cell_type": "code",
   "execution_count": 13,
   "metadata": {
    "collapsed": true
   },
   "outputs": [],
   "source": [
    "# Takes two coordiante lists\n",
    "# Returns distance betwen two coordinates (???)\n",
    "def hyp(x,y):\n",
    "    return math.sqrt(abs(x[0]-y[0])**2 + abs(x[1]-y[1])**2 + abs(x[2]-y[2])**2)"
   ]
  },
  {
   "cell_type": "code",
   "execution_count": 14,
   "metadata": {
    "collapsed": true
   },
   "outputs": [],
   "source": [
    "# Takes a position coordinate\n",
    "# Returns distance from the origin of that coordinate\n",
    "def dfo(pos):\n",
    "    return math.sqrt(abs(pos[0])**2 + abs(pos[1])**2 + abs(pos[2]**2))"
   ]
  },
  {
   "cell_type": "markdown",
   "metadata": {},
   "source": [
    "### Loop"
   ]
  },
  {
   "cell_type": "raw",
   "metadata": {
    "raw_mimetype": "text/x-python"
   },
   "source": [
    "# define starting values for position and velocity (both 3x tuples)\n",
    "svel = vessel.velocity(cframe) # 3x tuple\n",
    "spos = vessel.position(cframe) # 3x tuple\n",
    "vel = svel\n",
    "pos = spos\n",
    "\n",
    "traj = [conn.space_center.transform_position(pos,cframe,kerbin.reference_frame)] # coordinate tuple of current position in kerbin reference frame\n",
    "while pos[0] > 600100:\n",
    "    pos = (pos[0]-vel[0],pos[1]+vel[1],pos[2]+vel[2])\n",
    "    vel = (vel[0] + agrav(pos[0]) - adrag(pos[0]-600000,vel[0]), vel[1] - adrag(pos[0]-600000,vel[1]), vel[2] - adrag(pos[0]-600000,vel[2]) )\n",
    "    traj.append(conn.space_center.transform_position(pos,cframe,kerbin.reference_frame))\n",
    "\n",
    "if dfo(traj[-1]) < 600000:\n",
    "    traj.pop()\n",
    "ppoi = traj[-1]\n",
    "print ppoi"
   ]
  },
  {
   "cell_type": "code",
   "execution_count": 160,
   "metadata": {
    "collapsed": true
   },
   "outputs": [
    {
     "data": {
      "text/plain": [
       "[[(632217.4681666809, 1.318767317570746e-11, 1.7462298274040222e-10),\n",
       "  (-632.7663422875218, 24.976337560899772, 289.0844518869077)],\n",
       " [(631584.7018243934, 24.97633756091296, 289.0844518870823),\n",
       "  (-641.4082753454634, 24.97600814935161, 289.0403222069449)],\n",
       " [(630943.2935490479, 49.95234571026457, 578.1247740940272),\n",
       "  (-650.0335542349312, 24.975635003403575, 288.990347582336)],\n",
       " [(630293.259994813, 74.92798071366815, 867.1151216763633),\n",
       "  (-658.6367889482642, 24.975212135209475, 288.9337316559546)],\n",
       " [(629634.6232058648, 99.90319284887762, 1156.0488533323178),\n",
       "  (-667.2117485130597, 24.97473284299294, 288.8695843387069)],\n",
       " [(628967.4114573518, 124.87792569187056, 1444.9184376710245),\n",
       "  (-675.7513462617189, 24.974189768130927, 288.79692998714285)],\n",
       " [(628291.66011109, 149.85211546000147, 1733.7153676581675),\n",
       "  (-684.2476326212226, 24.973574954781842, 288.71471601753444)],\n",
       " [(627607.4124784688, 174.8256904147833, 2022.430083675702),\n",
       "  (-692.6917945150901, 24.97287990958969, 288.62182163477024)],\n",
       " [(626914.7206839537, 199.798570324373, 2311.051905310472),\n",
       "  (-701.0741631003539, 24.97209566278516, 288.5170668600612)],\n",
       " [(626213.6465208534, 224.77066598715817, 2599.5689721705335),\n",
       "  (-709.3425984998111, 24.97116000908783, 288.3921709620489)],\n",
       " [(625504.3039223535, 249.741825996246, 2887.9611431325825),\n",
       "  (-717.5263958528429, 24.970115892766206, 288.25290711682607)],\n",
       " [(624786.7775265008, 274.7119418890122, 3176.2140502494085),\n",
       "  (-725.5587760265488, 24.96888704584728, 288.08914853794124)],\n",
       " [(624061.2187504742, 299.6808289348595, 3464.3031987873496),\n",
       "  (-733.4712230263578, 24.9675184126452, 287.9069510008038)],\n",
       " [(623327.7475274478, 324.6483473475047, 3752.2101497881536),\n",
       "  (-741.1688434864677, 24.965905625334706, 287.6924987342775)],\n",
       " [(622586.5786839613, 349.6142529728394, 4039.9026485224313),\n",
       "  (-748.6164031403305, 24.964018067791827, 287.4418516668492)],\n",
       " [(621837.9622808209, 374.5782710406312, 4327.344500189281),\n",
       "  (-755.7777800593317, 24.96182551110636, 287.1511671783632)],\n",
       " [(621082.1845007616, 399.5400965517376, 4614.495667367643),\n",
       "  (-762.711685347209, 24.95940228782499, 286.8304945299879)],\n",
       " [(620319.4728154143, 424.4994988395626, 4901.326161897631),\n",
       "  (-769.2609476485695, 24.956587348210974, 286.4587441985861)],\n",
       " [(619550.2118677658, 449.45608618777356, 5187.784906096217),\n",
       "  (-775.2296347660392, 24.953185700450597, 286.01057385832627)],\n",
       " [(618774.9822329998, 474.40927188822417, 5473.795479954543),\n",
       "  (-780.6811117476925, 24.949277375134578, 285.49711826725957)],\n",
       " [(617994.301121252, 499.3585492633587, 5759.292598221803),\n",
       "  (-785.5431193809351, 24.944798787713463, 284.9106715343296)],\n",
       " [(617208.758001871, 524.3033480510721, 6044.203269756133),\n",
       "  (-789.4767951004369, 24.939417203484872, 284.2086223091738)],\n",
       " [(616419.2812067706, 549.242765254557, 6328.411892065306),\n",
       "  (-792.640049330264, 24.93329888537466, 283.4140490383747)],\n",
       " [(615626.6411574403, 574.1760641399317, 6611.825941103681),\n",
       "  (-794.6749013905845, 24.92609205169625, 282.4828816392026)],\n",
       " [(614831.9662560497, 599.102156191628, 6894.308822742883),\n",
       "  (-795.4438623104706, 24.91765706010469, 281.3995522261597)],\n",
       " [(614036.5223937392, 624.0198132517327, 7175.708374969043),\n",
       "  (-794.8429810357162, 24.907876092278155, 280.1521278521942)],\n",
       " [(613241.6794127035, 648.9276893440108, 7455.860502821237),\n",
       "  (-792.2904945903823, 24.896147687341983, 278.6684028681112)],\n",
       " [(612449.3889181131, 673.8238370313528, 7734.528905689348),\n",
       "  (-788.1277779788608, 24.882740748600824, 276.9886678398061)],\n",
       " [(611661.2611401342, 698.7065777799536, 8011.517573529154),\n",
       "  (-781.8278105714738, 24.867051811044036, 275.04455661301745)],\n",
       " [(610879.4333295627, 723.5736295909976, 8286.56213014217),\n",
       "  (-773.2891372299341, 24.848839884445276, 272.8165657709355)],\n",
       " [(610106.1441923328, 748.4224694754429, 8559.378695913107),\n",
       "  (-762.3729993289379, 24.827771066293966, 270.2769418169357)],\n",
       " [(609343.7711930039, 773.2502405417368, 8829.655637730042),\n",
       "  (-749.0800666165359, 24.803585359425917, 267.410775993816)],\n",
       " [(608594.6911263873, 798.0538259011628, 9097.066413723858),\n",
       "  (-733.5726955866141, 24.77612882025875, 264.21942422085834)],\n",
       " [(607861.1184308007, 822.8299547214216, 9361.285837944717),\n",
       "  (-716.101701235191, 24.745296303815465, 260.712942699199)],\n",
       " [(607145.0167295656, 847.5752510252371, 9621.998780643917),\n",
       "  (-696.868029202512, 24.710889721023566, 256.8936635004415)],\n",
       " [(606448.148700363, 872.2861407462607, 9878.892444144358),\n",
       "  (-676.4047486615963, 24.673084818857053, 252.8078537761505)],\n",
       " [(605771.7439517014, 896.9592255651178, 10131.700297920508),\n",
       "  (-655.1422940703926, 24.631988681476685, 248.49330657565395)],\n",
       " [(605116.601657631, 921.5912142465945, 10380.193604496162),\n",
       "  (-632.9462141659666, 24.58697829058722, 243.9124866265892)],\n",
       " [(604483.655443465, 946.1781925371818, 10624.10609112275),\n",
       "  (-610.5830600931799, 24.538649183526243, 239.15621637743396)],\n",
       " [(603873.0723833718, 970.716841720708, 10863.262307500185),\n",
       "  (-587.6879852863013, 24.486028304412773, 234.1579414138488)],\n",
       " [(603285.3843980854, 995.2028700251208, 11097.420248914033),\n",
       "  (-565.1088966573983, 24.429986685943863, 229.03296633964536)],\n",
       " [(602720.275501428, 1019.6328567110646, 11326.45321525368),\n",
       "  (-542.7480060801739, 24.37002816626847, 223.76308984427334)],\n",
       " [(602177.5274953479, 1044.0028848773331, 11550.216305097952),\n",
       "  (-520.6884137178791, 24.30591814035529, 218.35815091836798)],\n",
       " [(601656.83908163, 1068.3088030176884, 11768.57445601632),\n",
       "  (-499.183134092818, 24.23779798794652, 212.86033283886826)],\n",
       " [(601157.6559475372, 1092.546601005635, 11981.43478885519),\n",
       "  (-478.37635003021, 24.165705446455274, 207.30009348955096)],\n",
       " [(600679.279597507, 1116.7123064520904, 12188.734882344741),\n",
       "  (-458.40595884651236, 24.08976617039628, 201.7119635858819)],\n",
       " [(600220.8736386604, 1140.8020726224868, 12390.446845930623),\n",
       "  (-439.38962407731117, 24.01017858670039, 196.13184453331593)]]"
      ]
     },
     "execution_count": 160,
     "metadata": {},
     "output_type": "execute_result"
    }
   ],
   "source": [
    "# Return a list containing 2x lists of 3x coordinate tuples, representing position and velocity at one second increments until impact\n",
    "# def freefalltrajectory():\n",
    "    # Start with current vessel position and velocity\n",
    "pos = vessel.position(cframe) # coordinate tuple\n",
    "vel = vessel.velocity(cframe) # coordinate tuple\n",
    "trajectory = []\n",
    "trajectory.append([pos,vel]) # a list of 2x lists of 3x coordinate tuples\n",
    "\n",
    "while pos[0] > 600100:\n",
    "    pos = (pos[0]+vel[0],pos[1]+vel[1],pos[2]+vel[2])\n",
    "    vel = (vel[0] - agrav(pos[0]) + adrag(pos[0]-600000,vel[0]), vel[1] - adrag(pos[0]-600000,vel[1]), vel[2] - adrag(pos[0]-600000,vel[2]) )\n",
    "    trajectory.append([pos,vel])\n",
    "    \n",
    "if trajectory[-1][0][0] < 600000:\n",
    "    del trajectory[-1]\n",
    "\n",
    "trajectory"
   ]
  },
  {
   "cell_type": "markdown",
   "metadata": {},
   "source": [
    "### Scratch"
   ]
  },
  {
   "cell_type": "code",
   "execution_count": 40,
   "metadata": {},
   "outputs": [
    {
     "ename": "SyntaxError",
     "evalue": "invalid syntax (<ipython-input-40-c2b278512497>, line 9)",
     "output_type": "error",
     "traceback": [
      "\u001b[1;36m  File \u001b[1;32m\"<ipython-input-40-c2b278512497>\"\u001b[1;36m, line \u001b[1;32m9\u001b[0m\n\u001b[1;33m    vel = (vel[0] - agrav(pos[0]) + adrag(pos[0]-600000,vel[0]), vel[1] - adrag(pos[0]-600000 - Thrust(,vel[1]), vel[2] - adrag(pos[0]-600000,vel[2]) )\u001b[0m\n\u001b[1;37m                                                                                                       ^\u001b[0m\n\u001b[1;31mSyntaxError\u001b[0m\u001b[1;31m:\u001b[0m invalid syntax\n"
     ]
    }
   ],
   "source": [
    "# Return a list containing 2x lists of 3x coordinate tuples, representing position and velocity at one second increments until impact\n",
    "def trajectory(pos = vessel.position(cframe), vel = vessel.velocity(cframe), harddeck = 600100):\n",
    "    # Start with current vessel position and velocity\n",
    "    trajectory = []\n",
    "    trajectory.append([pos,vel]) # a list of 2x lists of 3x coordinate tuples\n",
    "\n",
    "    while pos[0] > harddeck:  #TODO:  transform pos[0] to kerbin reference frame to get altitiude of predicted point\n",
    "        pos = (pos[0]+vel[0],pos[1]+vel[1],pos[2]+vel[2])\n",
    "        vel = (vel[0] - agrav(pos[0]) + adrag(pos[0]-600000,vel[0]), vel[1] - adrag(pos[0]-600000 - Thrust(vel[1]), vel[2] - adrag(pos[0]-600000,vel[2]) )\n",
    "        trajectory.append([pos,vel])\n",
    "\n",
    "    if trajectory[-1][0][0] < harddeck:\n",
    "        del trajectory[-1]\n",
    "\n",
    "    return trajectory"
   ]
  },
  {
   "cell_type": "code",
   "execution_count": null,
   "metadata": {
    "collapsed": true
   },
   "outputs": [],
   "source": [
    "x,y,z = RTV(pos[0]-600000,)"
   ]
  },
  {
   "cell_type": "code",
   "execution_count": null,
   "metadata": {
    "collapsed": true
   },
   "outputs": [],
   "source": [
    "trajectory = trajectory()\n",
    "for tick in enumerate(trajectory[0][::-1]):\n",
    "    \n",
    "    "
   ]
  },
  {
   "cell_type": "code",
   "execution_count": 43,
   "metadata": {},
   "outputs": [
    {
     "data": {
      "text/plain": [
       "(603020.1701079655, 5.701394911739044e-11, -6.402842700481415e-10)"
      ]
     },
     "execution_count": 43,
     "metadata": {},
     "output_type": "execute_result"
    }
   ],
   "source": [
    "vessel.position(cframe)"
   ]
  },
  {
   "cell_type": "code",
   "execution_count": 19,
   "metadata": {},
   "outputs": [
    {
     "data": {
      "text/plain": [
       "(-29.601089182009392, 0.8279541412193142, -0.06489352897457934)"
      ]
     },
     "execution_count": 19,
     "metadata": {},
     "output_type": "execute_result"
    }
   ],
   "source": [
    "vessel.velocity(cframe)"
   ]
  },
  {
   "cell_type": "code",
   "execution_count": 2,
   "metadata": {},
   "outputs": [
    {
     "data": {
      "text/plain": [
       "[9, 8, 7, 6, 5, 4, 3, 2, 1, 0]"
      ]
     },
     "execution_count": 2,
     "metadata": {},
     "output_type": "execute_result"
    }
   ],
   "source": [
    "range(10)[::-1]"
   ]
  },
  {
   "cell_type": "raw",
   "metadata": {},
   "source": [
    "# Return a list containing 2x lists of 3x coordinate tuples, representing position and velocity at one second increments until impact\n",
    "def trajectory(pos = vessel.position(cframe), vel = vessel.velocity(cframe), harddeck = 600100):\n",
    "    # Start with current vessel position and velocity\n",
    "    trajectory = []\n",
    "    trajectory.append([pos,vel]) # a list of 2x lists of 3x coordinate tuples\n",
    "\n",
    "    while pos[0] > harddeck:\n",
    "        pos = (pos[0]+vel[0],pos[1]+vel[1],pos[2]+vel[2])\n",
    "        vel = (vel[0] - agrav(pos[0]) + adrag(pos[0]-600000,vel[0]), vel[1] - adrag(pos[0]-600000,vel[1]), vel[2] - adrag(pos[0]-600000,vel[2]) )\n",
    "        trajectory.append([pos,vel])\n",
    "\n",
    "    if trajectory[-1][0][0] < harddeck:\n",
    "        del trajectory[-1]\n",
    "\n",
    "    return trajectory"
   ]
  },
  {
   "cell_type": "raw",
   "metadata": {},
   "source": [
    "# Actual Trajectory\n",
    "atraj = []\n",
    "while vessel.position(cframe)[0] > 600100:\n",
    "    atraj.append(vessel.position(kerbin.reference_frame))\n",
    "    time.sleep(1)\n",
    "poi = vessel.position(kerbin.reference_frame)\n",
    "print poi"
   ]
  },
  {
   "cell_type": "raw",
   "metadata": {},
   "source": [
    "hyp(ppoi,poi)"
   ]
  },
  {
   "cell_type": "raw",
   "metadata": {},
   "source": [
    "with open('C:\\\\Users\\\\Will\\\\Desktop\\\\KSP Code\\\\falltrajectory.csv','wb') as out:\n",
    "    w = csv.writer(out)\n",
    "    while vessel.position(cframe)[0] > 600100:\n",
    "        w.writerow(str(vessel.position(kerbin.reference_frame)))\n",
    "        time.sleep(1\n",
    "    poi = vessel.position(kerbin.reference_frame)\n",
    "    print poi"
   ]
  },
  {
   "cell_type": "code",
   "execution_count": 60,
   "metadata": {
    "collapsed": true
   },
   "outputs": [],
   "source": [
    "ap = vessel.auto_pilot\n",
    "ap.engage()"
   ]
  },
  {
   "cell_type": "code",
   "execution_count": 4,
   "metadata": {},
   "outputs": [
    {
     "ename": "NameError",
     "evalue": "name 'ap' is not defined",
     "output_type": "error",
     "traceback": [
      "\u001b[1;31m---------------------------------------------------------------------------\u001b[0m",
      "\u001b[1;31mNameError\u001b[0m                                 Traceback (most recent call last)",
      "\u001b[1;32m<ipython-input-4-bbacbf305ca6>\u001b[0m in \u001b[0;36m<module>\u001b[1;34m()\u001b[0m\n\u001b[1;32m----> 1\u001b[1;33m \u001b[0map\u001b[0m\u001b[1;33m.\u001b[0m\u001b[0mtarget_pitch_and_heading\u001b[0m\u001b[1;33m(\u001b[0m\u001b[1;36m70\u001b[0m\u001b[1;33m,\u001b[0m\u001b[1;36m270\u001b[0m\u001b[1;33m)\u001b[0m\u001b[1;33m\u001b[0m\u001b[0m\n\u001b[0m",
      "\u001b[1;31mNameError\u001b[0m: name 'ap' is not defined"
     ]
    }
   ],
   "source": [
    "ap.target_pitch_and_heading(70,270)"
   ]
  },
  {
   "cell_type": "code",
   "execution_count": 82,
   "metadata": {
    "collapsed": true
   },
   "outputs": [],
   "source": [
    "ISP = []\n",
    "Thrust = []\n",
    "mass = []\n",
    "itime = []"
   ]
  },
  {
   "cell_type": "code",
   "execution_count": 83,
   "metadata": {},
   "outputs": [
    {
     "name": "stdout",
     "output_type": "stream",
     "text": [
      "loop complete\n"
     ]
    }
   ],
   "source": [
    "# Prep control systems for launch\n",
    "vessel.control.sas = False\n",
    "vessel.control.rcs = False\n",
    "vessel.control.throttle = 1.0\n",
    "\n",
    "# Launch and fly towards zenith\n",
    "vessel.control.activate_next_stage()\n",
    "vessel.auto_pilot.engage()\n",
    "vessel.auto_pilot.target_pitch_and_heading(90, 90)\n",
    "\n",
    "while vessel.flight().surface_altitude < 40000:\n",
    "    ISP.append(vessel.specific_impulse)\n",
    "    Thrust.append(vessel.thrust)\n",
    "    mass.append(vessel.mass)\n",
    "    itime.append(time.time())\n",
    "    \n",
    "# Confirm loop completion and set throttle to 0\n",
    "print \"loop complete\"\n",
    "vessel.control.throttle = 0.0\n",
    "vessel.auto_pilot.disengage()"
   ]
  },
  {
   "cell_type": "code",
   "execution_count": null,
   "metadata": {
    "collapsed": true
   },
   "outputs": [],
   "source": [
    "# vel = (vel[0] - agrav(pos[0]) + adrag(pos[0]-600000,vel[0]), vel[1] - adrag(pos[0]-600000 - Thrust(vel[1]), vel[2] - adrag(pos[0]-600000,vel[2]) )\n",
    "def updateV(dimension, val):\n",
    "    if dimension = x:\n",
    "        val \n",
    "        \n",
    "        "
   ]
  }
 ],
 "metadata": {
  "kernelspec": {
   "display_name": "Python 2",
   "language": "python",
   "name": "python2"
  },
  "language_info": {
   "codemirror_mode": {
    "name": "ipython",
    "version": 2
   },
   "file_extension": ".py",
   "mimetype": "text/x-python",
   "name": "python",
   "nbconvert_exporter": "python",
   "pygments_lexer": "ipython2",
   "version": "2.7.13"
  }
 },
 "nbformat": 4,
 "nbformat_minor": 2
}
